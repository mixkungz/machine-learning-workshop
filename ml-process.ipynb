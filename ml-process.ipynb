{
 "cells": [
  {
   "cell_type": "code",
   "execution_count": 1,
   "metadata": {},
   "outputs": [],
   "source": [
    "import pandas as pd"
   ]
  },
  {
   "cell_type": "code",
   "execution_count": 2,
   "metadata": {},
   "outputs": [],
   "source": [
    "df = pd.read_csv(\n",
    "    'https://archive.ics.uci.edu/ml/machine-learning-databases/iris/iris.data',\n",
    "    header=None,\n",
    "    names=['sepal_length', 'sepal_width', 'petal_length', 'petal_width', 'class']\n",
    ")"
   ]
  },
  {
   "cell_type": "code",
   "execution_count": 3,
   "metadata": {},
   "outputs": [
    {
     "data": {
      "text/html": [
       "<div>\n",
       "<style scoped>\n",
       "    .dataframe tbody tr th:only-of-type {\n",
       "        vertical-align: middle;\n",
       "    }\n",
       "\n",
       "    .dataframe tbody tr th {\n",
       "        vertical-align: top;\n",
       "    }\n",
       "\n",
       "    .dataframe thead th {\n",
       "        text-align: right;\n",
       "    }\n",
       "</style>\n",
       "<table border=\"1\" class=\"dataframe\">\n",
       "  <thead>\n",
       "    <tr style=\"text-align: right;\">\n",
       "      <th></th>\n",
       "      <th>sepal_length</th>\n",
       "      <th>sepal_width</th>\n",
       "      <th>petal_length</th>\n",
       "      <th>petal_width</th>\n",
       "      <th>class</th>\n",
       "    </tr>\n",
       "  </thead>\n",
       "  <tbody>\n",
       "    <tr>\n",
       "      <th>0</th>\n",
       "      <td>5.1</td>\n",
       "      <td>3.5</td>\n",
       "      <td>1.4</td>\n",
       "      <td>0.2</td>\n",
       "      <td>Iris-setosa</td>\n",
       "    </tr>\n",
       "    <tr>\n",
       "      <th>1</th>\n",
       "      <td>4.9</td>\n",
       "      <td>3.0</td>\n",
       "      <td>1.4</td>\n",
       "      <td>0.2</td>\n",
       "      <td>Iris-setosa</td>\n",
       "    </tr>\n",
       "    <tr>\n",
       "      <th>2</th>\n",
       "      <td>4.7</td>\n",
       "      <td>3.2</td>\n",
       "      <td>1.3</td>\n",
       "      <td>0.2</td>\n",
       "      <td>Iris-setosa</td>\n",
       "    </tr>\n",
       "    <tr>\n",
       "      <th>3</th>\n",
       "      <td>4.6</td>\n",
       "      <td>3.1</td>\n",
       "      <td>1.5</td>\n",
       "      <td>0.2</td>\n",
       "      <td>Iris-setosa</td>\n",
       "    </tr>\n",
       "    <tr>\n",
       "      <th>4</th>\n",
       "      <td>5.0</td>\n",
       "      <td>3.6</td>\n",
       "      <td>1.4</td>\n",
       "      <td>0.2</td>\n",
       "      <td>Iris-setosa</td>\n",
       "    </tr>\n",
       "  </tbody>\n",
       "</table>\n",
       "</div>"
      ],
      "text/plain": [
       "   sepal_length  sepal_width  petal_length  petal_width        class\n",
       "0           5.1          3.5           1.4          0.2  Iris-setosa\n",
       "1           4.9          3.0           1.4          0.2  Iris-setosa\n",
       "2           4.7          3.2           1.3          0.2  Iris-setosa\n",
       "3           4.6          3.1           1.5          0.2  Iris-setosa\n",
       "4           5.0          3.6           1.4          0.2  Iris-setosa"
      ]
     },
     "execution_count": 3,
     "metadata": {},
     "output_type": "execute_result"
    }
   ],
   "source": [
    "df.head()"
   ]
  },
  {
   "cell_type": "code",
   "execution_count": 19,
   "metadata": {
    "scrolled": true
   },
   "outputs": [
    {
     "data": {
      "image/png": "[encoded data removed]",
      "text/plain": [
       "<Figure size 432x288 with 4 Axes>"
      ]
     },
     "metadata": {
      "needs_background": "light"
     },
     "output_type": "display_data"
    }
   ],
   "source": [
    "df.boxplot(by='class');"
   ]
  },
  {
   "cell_type": "code",
   "execution_count": 20,
   "metadata": {},
   "outputs": [],
   "source": [
    "X = df[['sepal_length', 'sepal_width', 'petal_length', 'petal_width']]\n",
    "y = df['class']"
   ]
  },
  {
   "cell_type": "code",
   "execution_count": 25,
   "metadata": {},
   "outputs": [],
   "source": [
    "from sklearn.neighbors import KNeighborsClassifier"
   ]
  },
  {
   "cell_type": "code",
   "execution_count": 27,
   "metadata": {},
   "outputs": [],
   "source": [
    "knn = KNeighborsClassifier(n_neighbors=5)"
   ]
  },
  {
   "cell_type": "code",
   "execution_count": 37,
   "metadata": {},
   "outputs": [],
   "source": [
    "from sklearn.model_selection import cross_val_score\n",
    "scores = cross_val_score(knn, X, y, cv=5)"
   ]
  },
  {
   "cell_type": "code",
   "execution_count": 38,
   "metadata": {},
   "outputs": [
    {
     "data": {
      "text/plain": [
       "array([0.96666667, 1.        , 0.93333333, 0.96666667, 1.        ])"
      ]
     },
     "execution_count": 38,
     "metadata": {},
     "output_type": "execute_result"
    }
   ],
   "source": [
    "scores"
   ]
  },
  {
   "cell_type": "code",
   "execution_count": 39,
   "metadata": {},
   "outputs": [
    {
     "data": {
      "text/plain": [
       "0.9733333333333334"
      ]
     },
     "execution_count": 39,
     "metadata": {},
     "output_type": "execute_result"
    }
   ],
   "source": [
    "scores.mean()"
   ]
  },
  {
   "cell_type": "code",
   "execution_count": 40,
   "metadata": {},
   "outputs": [],
   "source": [
    "from sklearn.model_selection import GridSearchCV"
   ]
  },
  {
   "cell_type": "code",
   "execution_count": 60,
   "metadata": {},
   "outputs": [],
   "source": [
    "param_grid = {\n",
    "    'n_neighbors': [1,2,3,4,5,6],\n",
    "    'leaf_size': [1,10,15,20,25,30]\n",
    "}"
   ]
  },
  {
   "cell_type": "code",
   "execution_count": 61,
   "metadata": {},
   "outputs": [],
   "source": [
    "knn = KNeighborsClassifier()"
   ]
  },
  {
   "cell_type": "code",
   "execution_count": 62,
   "metadata": {},
   "outputs": [],
   "source": [
    "g = GridSearchCV(knn, param_grid, cv=5, return_train_score=True)"
   ]
  },
  {
   "cell_type": "code",
   "execution_count": 63,
   "metadata": {},
   "outputs": [
    {
     "data": {
      "text/plain": [
       "GridSearchCV(cv=5, error_score='raise-deprecating',\n",
       "       estimator=KNeighborsClassifier(algorithm='auto', leaf_size=30, metric='minkowski',\n",
       "           metric_params=None, n_jobs=None, n_neighbors=5, p=2,\n",
       "           weights='uniform'),\n",
       "       fit_params=None, iid='warn', n_jobs=None,\n",
       "       param_grid={'n_neighbors': [1, 2, 3, 4, 5, 6], 'leaf_size': [1, 10, 15, 20, 25, 30]},\n",
       "       pre_dispatch='2*n_jobs', refit=True, return_train_score=True,\n",
       "       scoring=None, verbose=0)"
      ]
     },
     "execution_count": 63,
     "metadata": {},
     "output_type": "execute_result"
    }
   ],
   "source": [
    "g.fit(X, y)"
   ]
  },
  {
   "cell_type": "code",
   "execution_count": 64,
   "metadata": {},
   "outputs": [
    {
     "data": {
      "text/plain": [
       "{'mean_fit_time': array([0.0063427 , 0.00266042, 0.00265527, 0.00296535, 0.00339756,\n",
       "        0.00241709, 0.00276122, 0.00290322, 0.00238662, 0.00318341,\n",
       "        0.00238113, 0.00209179, 0.00202069, 0.00194941, 0.00209074,\n",
       "        0.00277219, 0.0025991 , 0.0042942 , 0.0032691 , 0.00197062,\n",
       "        0.00216789, 0.00202045, 0.00194192, 0.00210786, 0.00207844,\n",
       "        0.00241928, 0.00250697, 0.00241456, 0.00244303, 0.00310888,\n",
       "        0.00305395, 0.00197902, 0.00209222, 0.00209484, 0.00202603,\n",
       "        0.00202508]),\n",
       " 'std_fit_time': array([2.00876606e-03, 6.45036196e-04, 6.36777186e-04, 7.19007975e-04,\n",
       "        1.04979034e-03, 2.72449121e-04, 6.46174347e-05, 5.33881393e-04,\n",
       "        2.78517086e-04, 3.75009110e-04, 5.17660805e-04, 1.67746514e-04,\n",
       "        7.08928093e-05, 5.91619455e-05, 1.94111230e-04, 1.22264195e-03,\n",
       "        3.59194807e-04, 6.39492238e-04, 7.90830906e-04, 2.84634640e-05,\n",
       "        3.98778302e-04, 7.21044323e-05, 4.16481159e-05, 1.10951205e-04,\n",
       "        1.22252771e-04, 6.77352200e-04, 3.52363915e-04, 1.78818677e-04,\n",
       "        3.73019971e-04, 1.03239391e-03, 1.67331395e-03, 3.46662910e-05,\n",
       "        2.27774464e-04, 2.87668732e-04, 1.19786429e-04, 5.49934870e-05]),\n",
       " 'mean_score_time': array([0.00629334, 0.00375018, 0.00403419, 0.00459862, 0.00391297,\n",
       "        0.00297003, 0.00317254, 0.00378385, 0.00265045, 0.00475206,\n",
       "        0.00276103, 0.00257092, 0.0024127 , 0.00242915, 0.00268135,\n",
       "        0.00398922, 0.00431752, 0.0070015 , 0.00385776, 0.0024128 ,\n",
       "        0.00245504, 0.00252471, 0.0026897 , 0.00284295, 0.00245261,\n",
       "        0.00246711, 0.00303893, 0.0027782 , 0.00301843, 0.00481071,\n",
       "        0.00272665, 0.00239038, 0.00247679, 0.00244594, 0.00252852,\n",
       "        0.0024219 ]),\n",
       " 'std_score_time': array([1.57384542e-03, 1.11714388e-03, 1.52491720e-03, 3.12548993e-03,\n",
       "        9.62519945e-04, 3.50408788e-04, 3.90253756e-04, 1.08763924e-03,\n",
       "        1.60823354e-04, 1.56671404e-03, 3.96298745e-04, 1.39131850e-04,\n",
       "        7.87611148e-05, 7.22974769e-05, 2.42615880e-04, 1.01674706e-03,\n",
       "        1.28640277e-03, 2.52643987e-03, 8.47908914e-04, 5.41465338e-05,\n",
       "        8.08176950e-05, 1.52803031e-04, 3.67048592e-04, 3.79493045e-04,\n",
       "        1.03669816e-04, 5.84111700e-05, 4.21169869e-04, 4.12112858e-04,\n",
       "        4.48242892e-04, 3.11351660e-03, 3.09431077e-04, 1.21738310e-05,\n",
       "        6.69616905e-05, 8.04014475e-05, 6.83257234e-05, 2.39652303e-05]),\n",
       " 'param_leaf_size': masked_array(data=[1, 1, 1, 1, 1, 1, 10, 10, 10, 10, 10, 10, 15, 15, 15,\n",
       "                    15, 15, 15, 20, 20, 20, 20, 20, 20, 25, 25, 25, 25, 25,\n",
       "                    25, 30, 30, 30, 30, 30, 30],\n",
       "              mask=[False, False, False, False, False, False, False, False,\n",
       "                    False, False, False, False, False, False, False, False,\n",
       "                    False, False, False, False, False, False, False, False,\n",
       "                    False, False, False, False, False, False, False, False,\n",
       "                    False, False, False, False],\n",
       "        fill_value='?',\n",
       "             dtype=object),\n",
       " 'param_n_neighbors': masked_array(data=[1, 2, 3, 4, 5, 6, 1, 2, 3, 4, 5, 6, 1, 2, 3, 4, 5, 6,\n",
       "                    1, 2, 3, 4, 5, 6, 1, 2, 3, 4, 5, 6, 1, 2, 3, 4, 5, 6],\n",
       "              mask=[False, False, False, False, False, False, False, False,\n",
       "                    False, False, False, False, False, False, False, False,\n",
       "                    False, False, False, False, False, False, False, False,\n",
       "                    False, False, False, False, False, False, False, False,\n",
       "                    False, False, False, False],\n",
       "        fill_value='?',\n",
       "             dtype=object),\n",
       " 'params': [{'leaf_size': 1, 'n_neighbors': 1},\n",
       "  {'leaf_size': 1, 'n_neighbors': 2},\n",
       "  {'leaf_size': 1, 'n_neighbors': 3},\n",
       "  {'leaf_size': 1, 'n_neighbors': 4},\n",
       "  {'leaf_size': 1, 'n_neighbors': 5},\n",
       "  {'leaf_size': 1, 'n_neighbors': 6},\n",
       "  {'leaf_size': 10, 'n_neighbors': 1},\n",
       "  {'leaf_size': 10, 'n_neighbors': 2},\n",
       "  {'leaf_size': 10, 'n_neighbors': 3},\n",
       "  {'leaf_size': 10, 'n_neighbors': 4},\n",
       "  {'leaf_size': 10, 'n_neighbors': 5},\n",
       "  {'leaf_size': 10, 'n_neighbors': 6},\n",
       "  {'leaf_size': 15, 'n_neighbors': 1},\n",
       "  {'leaf_size': 15, 'n_neighbors': 2},\n",
       "  {'leaf_size': 15, 'n_neighbors': 3},\n",
       "  {'leaf_size': 15, 'n_neighbors': 4},\n",
       "  {'leaf_size': 15, 'n_neighbors': 5},\n",
       "  {'leaf_size': 15, 'n_neighbors': 6},\n",
       "  {'leaf_size': 20, 'n_neighbors': 1},\n",
       "  {'leaf_size': 20, 'n_neighbors': 2},\n",
       "  {'leaf_size': 20, 'n_neighbors': 3},\n",
       "  {'leaf_size': 20, 'n_neighbors': 4},\n",
       "  {'leaf_size': 20, 'n_neighbors': 5},\n",
       "  {'leaf_size': 20, 'n_neighbors': 6},\n",
       "  {'leaf_size': 25, 'n_neighbors': 1},\n",
       "  {'leaf_size': 25, 'n_neighbors': 2},\n",
       "  {'leaf_size': 25, 'n_neighbors': 3},\n",
       "  {'leaf_size': 25, 'n_neighbors': 4},\n",
       "  {'leaf_size': 25, 'n_neighbors': 5},\n",
       "  {'leaf_size': 25, 'n_neighbors': 6},\n",
       "  {'leaf_size': 30, 'n_neighbors': 1},\n",
       "  {'leaf_size': 30, 'n_neighbors': 2},\n",
       "  {'leaf_size': 30, 'n_neighbors': 3},\n",
       "  {'leaf_size': 30, 'n_neighbors': 4},\n",
       "  {'leaf_size': 30, 'n_neighbors': 5},\n",
       "  {'leaf_size': 30, 'n_neighbors': 6}],\n",
       " 'split0_test_score': array([0.96666667, 0.96666667, 0.96666667, 0.96666667, 0.96666667,\n",
       "        0.96666667, 0.96666667, 0.96666667, 0.96666667, 0.96666667,\n",
       "        0.96666667, 0.96666667, 0.96666667, 0.96666667, 0.96666667,\n",
       "        0.96666667, 0.96666667, 0.96666667, 0.96666667, 0.96666667,\n",
       "        0.96666667, 0.96666667, 0.96666667, 0.96666667, 0.96666667,\n",
       "        0.96666667, 0.96666667, 0.96666667, 0.96666667, 0.96666667,\n",
       "        0.96666667, 0.96666667, 0.96666667, 0.96666667, 0.96666667,\n",
       "        0.96666667]),\n",
       " 'split1_test_score': array([0.96666667, 0.93333333, 0.96666667, 0.96666667, 1.        ,\n",
       "        1.        , 0.96666667, 0.93333333, 0.96666667, 0.96666667,\n",
       "        1.        , 1.        , 0.96666667, 0.93333333, 0.96666667,\n",
       "        0.96666667, 1.        , 1.        , 0.96666667, 0.93333333,\n",
       "        0.96666667, 0.96666667, 1.        , 1.        , 0.96666667,\n",
       "        0.93333333, 0.96666667, 0.96666667, 1.        , 1.        ,\n",
       "        0.96666667, 0.93333333, 0.96666667, 0.96666667, 1.        ,\n",
       "        1.        ]),\n",
       " 'split2_test_score': array([0.93333333, 0.93333333, 0.93333333, 0.96666667, 0.93333333,\n",
       "        0.96666667, 0.93333333, 0.93333333, 0.93333333, 0.96666667,\n",
       "        0.93333333, 0.96666667, 0.93333333, 0.93333333, 0.93333333,\n",
       "        0.96666667, 0.93333333, 0.96666667, 0.93333333, 0.93333333,\n",
       "        0.93333333, 0.96666667, 0.93333333, 0.96666667, 0.93333333,\n",
       "        0.93333333, 0.93333333, 0.96666667, 0.93333333, 0.96666667,\n",
       "        0.93333333, 0.93333333, 0.93333333, 0.96666667, 0.93333333,\n",
       "        0.96666667]),\n",
       " 'split3_test_score': array([0.93333333, 0.9       , 0.96666667, 0.96666667, 0.96666667,\n",
       "        0.96666667, 0.93333333, 0.9       , 0.96666667, 0.96666667,\n",
       "        0.96666667, 0.96666667, 0.93333333, 0.9       , 0.96666667,\n",
       "        0.96666667, 0.96666667, 0.96666667, 0.93333333, 0.9       ,\n",
       "        0.96666667, 0.96666667, 0.96666667, 0.96666667, 0.93333333,\n",
       "        0.9       , 0.96666667, 0.96666667, 0.96666667, 0.96666667,\n",
       "        0.93333333, 0.9       , 0.96666667, 0.96666667, 0.96666667,\n",
       "        0.96666667]),\n",
       " 'split4_test_score': array([1., 1., 1., 1., 1., 1., 1., 1., 1., 1., 1., 1., 1., 1., 1., 1., 1.,\n",
       "        1., 1., 1., 1., 1., 1., 1., 1., 1., 1., 1., 1., 1., 1., 1., 1., 1.,\n",
       "        1., 1.]),\n",
       " 'mean_test_score': array([0.96      , 0.94666667, 0.96666667, 0.97333333, 0.97333333,\n",
       "        0.98      , 0.96      , 0.94666667, 0.96666667, 0.97333333,\n",
       "        0.97333333, 0.98      , 0.96      , 0.94666667, 0.96666667,\n",
       "        0.97333333, 0.97333333, 0.98      , 0.96      , 0.94666667,\n",
       "        0.96666667, 0.97333333, 0.97333333, 0.98      , 0.96      ,\n",
       "        0.94666667, 0.96666667, 0.97333333, 0.97333333, 0.98      ,\n",
       "        0.96      , 0.94666667, 0.96666667, 0.97333333, 0.97333333,\n",
       "        0.98      ]),\n",
       " 'std_test_score': array([0.02494438, 0.03399346, 0.02108185, 0.01333333, 0.02494438,\n",
       "        0.01632993, 0.02494438, 0.03399346, 0.02108185, 0.01333333,\n",
       "        0.02494438, 0.01632993, 0.02494438, 0.03399346, 0.02108185,\n",
       "        0.01333333, 0.02494438, 0.01632993, 0.02494438, 0.03399346,\n",
       "        0.02108185, 0.01333333, 0.02494438, 0.01632993, 0.02494438,\n",
       "        0.03399346, 0.02108185, 0.01333333, 0.02494438, 0.01632993,\n",
       "        0.02494438, 0.03399346, 0.02108185, 0.01333333, 0.02494438,\n",
       "        0.01632993]),\n",
       " 'rank_test_score': array([25, 31, 19,  7,  7,  1, 25, 31, 19,  7,  7,  1, 25, 31, 19,  7,  7,\n",
       "         1, 25, 31, 19,  7,  7,  1, 25, 31, 19,  7,  7,  1, 25, 31, 19,  7,\n",
       "         7,  1], dtype=int32),\n",
       " 'split0_train_score': array([1.        , 0.975     , 0.95833333, 0.95833333, 0.96666667,\n",
       "        0.96666667, 1.        , 0.975     , 0.95833333, 0.95833333,\n",
       "        0.96666667, 0.96666667, 1.        , 0.975     , 0.95833333,\n",
       "        0.95833333, 0.96666667, 0.96666667, 1.        , 0.975     ,\n",
       "        0.95833333, 0.95833333, 0.96666667, 0.96666667, 1.        ,\n",
       "        0.975     , 0.95833333, 0.95833333, 0.96666667, 0.96666667,\n",
       "        1.        , 0.975     , 0.95833333, 0.95833333, 0.96666667,\n",
       "        0.96666667]),\n",
       " 'split1_train_score': array([1.        , 0.98333333, 0.95833333, 0.95833333, 0.96666667,\n",
       "        0.975     , 1.        , 0.98333333, 0.95833333, 0.95833333,\n",
       "        0.96666667, 0.975     , 1.        , 0.98333333, 0.95833333,\n",
       "        0.95833333, 0.96666667, 0.975     , 1.        , 0.98333333,\n",
       "        0.95833333, 0.95833333, 0.96666667, 0.975     , 1.        ,\n",
       "        0.98333333, 0.95833333, 0.95833333, 0.96666667, 0.975     ,\n",
       "        1.        , 0.98333333, 0.95833333, 0.95833333, 0.96666667,\n",
       "        0.975     ]),\n",
       " 'split2_train_score': array([1.        , 0.975     , 0.96666667, 0.95833333, 0.975     ,\n",
       "        0.975     , 1.        , 0.975     , 0.96666667, 0.95833333,\n",
       "        0.975     , 0.975     , 1.        , 0.975     , 0.96666667,\n",
       "        0.95833333, 0.975     , 0.975     , 1.        , 0.975     ,\n",
       "        0.96666667, 0.95833333, 0.975     , 0.975     , 1.        ,\n",
       "        0.975     , 0.96666667, 0.95833333, 0.975     , 0.975     ,\n",
       "        1.        , 0.975     , 0.96666667, 0.95833333, 0.975     ,\n",
       "        0.975     ]),\n",
       " 'split3_train_score': array([1.        , 0.98333333, 0.96666667, 0.975     , 0.975     ,\n",
       "        0.98333333, 1.        , 0.98333333, 0.96666667, 0.975     ,\n",
       "        0.975     , 0.98333333, 1.        , 0.98333333, 0.96666667,\n",
       "        0.975     , 0.975     , 0.98333333, 1.        , 0.98333333,\n",
       "        0.96666667, 0.975     , 0.975     , 0.98333333, 1.        ,\n",
       "        0.98333333, 0.96666667, 0.975     , 0.975     , 0.98333333,\n",
       "        1.        , 0.98333333, 0.96666667, 0.975     , 0.975     ,\n",
       "        0.98333333]),\n",
       " 'split4_train_score': array([1.        , 0.975     , 0.95      , 0.96666667, 0.96666667,\n",
       "        0.96666667, 1.        , 0.975     , 0.95      , 0.96666667,\n",
       "        0.96666667, 0.96666667, 1.        , 0.975     , 0.95      ,\n",
       "        0.96666667, 0.96666667, 0.96666667, 1.        , 0.975     ,\n",
       "        0.95      , 0.96666667, 0.96666667, 0.96666667, 1.        ,\n",
       "        0.975     , 0.95      , 0.96666667, 0.96666667, 0.96666667,\n",
       "        1.        , 0.975     , 0.95      , 0.96666667, 0.96666667,\n",
       "        0.96666667]),\n",
       " 'mean_train_score': array([1.        , 0.97833333, 0.96      , 0.96333333, 0.97      ,\n",
       "        0.97333333, 1.        , 0.97833333, 0.96      , 0.96333333,\n",
       "        0.97      , 0.97333333, 1.        , 0.97833333, 0.96      ,\n",
       "        0.96333333, 0.97      , 0.97333333, 1.        , 0.97833333,\n",
       "        0.96      , 0.96333333, 0.97      , 0.97333333, 1.        ,\n",
       "        0.97833333, 0.96      , 0.96333333, 0.97      , 0.97333333,\n",
       "        1.        , 0.97833333, 0.96      , 0.96333333, 0.97      ,\n",
       "        0.97333333]),\n",
       " 'std_train_score': array([0.        , 0.00408248, 0.0062361 , 0.00666667, 0.00408248,\n",
       "        0.0062361 , 0.        , 0.00408248, 0.0062361 , 0.00666667,\n",
       "        0.00408248, 0.0062361 , 0.        , 0.00408248, 0.0062361 ,\n",
       "        0.00666667, 0.00408248, 0.0062361 , 0.        , 0.00408248,\n",
       "        0.0062361 , 0.00666667, 0.00408248, 0.0062361 , 0.        ,\n",
       "        0.00408248, 0.0062361 , 0.00666667, 0.00408248, 0.0062361 ,\n",
       "        0.        , 0.00408248, 0.0062361 , 0.00666667, 0.00408248,\n",
       "        0.0062361 ])}"
      ]
     },
     "execution_count": 64,
     "metadata": {},
     "output_type": "execute_result"
    }
   ],
   "source": [
    "g.cv_results_"
   ]
  },
  {
   "cell_type": "code",
   "execution_count": 65,
   "metadata": {},
   "outputs": [
    {
     "data": {
      "text/plain": [
       "0.98"
      ]
     },
     "execution_count": 65,
     "metadata": {},
     "output_type": "execute_result"
    }
   ],
   "source": [
    "g.best_score_"
   ]
  },
  {
   "cell_type": "code",
   "execution_count": 66,
   "metadata": {},
   "outputs": [
    {
     "data": {
      "text/plain": [
       "{'leaf_size': 1, 'n_neighbors': 6}"
      ]
     },
     "execution_count": 66,
     "metadata": {},
     "output_type": "execute_result"
    }
   ],
   "source": [
    "g.best_params_"
   ]
  },
  {
   "cell_type": "code",
   "execution_count": 67,
   "metadata": {},
   "outputs": [
    {
     "data": {
      "text/plain": [
       "array(['Iris-setosa', 'Iris-setosa', 'Iris-setosa', 'Iris-setosa',\n",
       "       'Iris-setosa', 'Iris-setosa', 'Iris-setosa', 'Iris-setosa',\n",
       "       'Iris-setosa', 'Iris-setosa', 'Iris-setosa', 'Iris-setosa',\n",
       "       'Iris-setosa', 'Iris-setosa', 'Iris-setosa', 'Iris-setosa',\n",
       "       'Iris-setosa', 'Iris-setosa', 'Iris-setosa', 'Iris-setosa',\n",
       "       'Iris-setosa', 'Iris-setosa', 'Iris-setosa', 'Iris-setosa',\n",
       "       'Iris-setosa', 'Iris-setosa', 'Iris-setosa', 'Iris-setosa',\n",
       "       'Iris-setosa', 'Iris-setosa', 'Iris-setosa', 'Iris-setosa',\n",
       "       'Iris-setosa', 'Iris-setosa', 'Iris-setosa', 'Iris-setosa',\n",
       "       'Iris-setosa', 'Iris-setosa', 'Iris-setosa', 'Iris-setosa',\n",
       "       'Iris-setosa', 'Iris-setosa', 'Iris-setosa', 'Iris-setosa',\n",
       "       'Iris-setosa', 'Iris-setosa', 'Iris-setosa', 'Iris-setosa',\n",
       "       'Iris-setosa', 'Iris-setosa', 'Iris-versicolor', 'Iris-versicolor',\n",
       "       'Iris-versicolor', 'Iris-versicolor', 'Iris-versicolor',\n",
       "       'Iris-versicolor', 'Iris-versicolor', 'Iris-versicolor',\n",
       "       'Iris-versicolor', 'Iris-versicolor', 'Iris-versicolor',\n",
       "       'Iris-versicolor', 'Iris-versicolor', 'Iris-versicolor',\n",
       "       'Iris-versicolor', 'Iris-versicolor', 'Iris-versicolor',\n",
       "       'Iris-versicolor', 'Iris-versicolor', 'Iris-versicolor',\n",
       "       'Iris-versicolor', 'Iris-versicolor', 'Iris-virginica',\n",
       "       'Iris-versicolor', 'Iris-versicolor', 'Iris-versicolor',\n",
       "       'Iris-versicolor', 'Iris-versicolor', 'Iris-versicolor',\n",
       "       'Iris-versicolor', 'Iris-versicolor', 'Iris-versicolor',\n",
       "       'Iris-versicolor', 'Iris-virginica', 'Iris-versicolor',\n",
       "       'Iris-versicolor', 'Iris-versicolor', 'Iris-versicolor',\n",
       "       'Iris-versicolor', 'Iris-versicolor', 'Iris-versicolor',\n",
       "       'Iris-versicolor', 'Iris-versicolor', 'Iris-versicolor',\n",
       "       'Iris-versicolor', 'Iris-versicolor', 'Iris-versicolor',\n",
       "       'Iris-versicolor', 'Iris-versicolor', 'Iris-versicolor',\n",
       "       'Iris-virginica', 'Iris-virginica', 'Iris-virginica',\n",
       "       'Iris-virginica', 'Iris-virginica', 'Iris-virginica',\n",
       "       'Iris-versicolor', 'Iris-virginica', 'Iris-virginica',\n",
       "       'Iris-virginica', 'Iris-virginica', 'Iris-virginica',\n",
       "       'Iris-virginica', 'Iris-virginica', 'Iris-virginica',\n",
       "       'Iris-virginica', 'Iris-virginica', 'Iris-virginica',\n",
       "       'Iris-virginica', 'Iris-versicolor', 'Iris-virginica',\n",
       "       'Iris-virginica', 'Iris-virginica', 'Iris-virginica',\n",
       "       'Iris-virginica', 'Iris-virginica', 'Iris-virginica',\n",
       "       'Iris-virginica', 'Iris-virginica', 'Iris-virginica',\n",
       "       'Iris-virginica', 'Iris-virginica', 'Iris-virginica',\n",
       "       'Iris-virginica', 'Iris-virginica', 'Iris-virginica',\n",
       "       'Iris-virginica', 'Iris-virginica', 'Iris-virginica',\n",
       "       'Iris-virginica', 'Iris-virginica', 'Iris-virginica',\n",
       "       'Iris-virginica', 'Iris-virginica', 'Iris-virginica',\n",
       "       'Iris-virginica', 'Iris-virginica', 'Iris-virginica',\n",
       "       'Iris-virginica', 'Iris-virginica'], dtype=object)"
      ]
     },
     "execution_count": 67,
     "metadata": {},
     "output_type": "execute_result"
    }
   ],
   "source": [
    "g.predict(X)"
   ]
  },
  {
   "cell_type": "code",
   "execution_count": null,
   "metadata": {},
   "outputs": [],
   "source": []
  },
  {
   "cell_type": "code",
   "execution_count": null,
   "metadata": {},
   "outputs": [],
   "source": []
  },
  {
   "cell_type": "code",
   "execution_count": 69,
   "metadata": {},
   "outputs": [
    {
     "data": {
      "text/html": [
       "<div>\n",
       "<style scoped>\n",
       "    .dataframe tbody tr th:only-of-type {\n",
       "        vertical-align: middle;\n",
       "    }\n",
       "\n",
       "    .dataframe tbody tr th {\n",
       "        vertical-align: top;\n",
       "    }\n",
       "\n",
       "    .dataframe thead th {\n",
       "        text-align: right;\n",
       "    }\n",
       "</style>\n",
       "<table border=\"1\" class=\"dataframe\">\n",
       "  <thead>\n",
       "    <tr style=\"text-align: right;\">\n",
       "      <th></th>\n",
       "      <th>sepal_length</th>\n",
       "      <th>sepal_width</th>\n",
       "      <th>petal_length</th>\n",
       "      <th>petal_width</th>\n",
       "      <th>class</th>\n",
       "    </tr>\n",
       "  </thead>\n",
       "  <tbody>\n",
       "    <tr>\n",
       "      <th>0</th>\n",
       "      <td>5.1</td>\n",
       "      <td>3.5</td>\n",
       "      <td>1.4</td>\n",
       "      <td>0.2</td>\n",
       "      <td>Iris-setosa</td>\n",
       "    </tr>\n",
       "    <tr>\n",
       "      <th>1</th>\n",
       "      <td>4.9</td>\n",
       "      <td>3.0</td>\n",
       "      <td>1.4</td>\n",
       "      <td>0.2</td>\n",
       "      <td>Iris-setosa</td>\n",
       "    </tr>\n",
       "    <tr>\n",
       "      <th>2</th>\n",
       "      <td>4.7</td>\n",
       "      <td>3.2</td>\n",
       "      <td>1.3</td>\n",
       "      <td>0.2</td>\n",
       "      <td>Iris-setosa</td>\n",
       "    </tr>\n",
       "    <tr>\n",
       "      <th>3</th>\n",
       "      <td>4.6</td>\n",
       "      <td>3.1</td>\n",
       "      <td>1.5</td>\n",
       "      <td>0.2</td>\n",
       "      <td>Iris-setosa</td>\n",
       "    </tr>\n",
       "    <tr>\n",
       "      <th>4</th>\n",
       "      <td>5.0</td>\n",
       "      <td>3.6</td>\n",
       "      <td>1.4</td>\n",
       "      <td>0.2</td>\n",
       "      <td>Iris-setosa</td>\n",
       "    </tr>\n",
       "  </tbody>\n",
       "</table>\n",
       "</div>"
      ],
      "text/plain": [
       "   sepal_length  sepal_width  petal_length  petal_width        class\n",
       "0           5.1          3.5           1.4          0.2  Iris-setosa\n",
       "1           4.9          3.0           1.4          0.2  Iris-setosa\n",
       "2           4.7          3.2           1.3          0.2  Iris-setosa\n",
       "3           4.6          3.1           1.5          0.2  Iris-setosa\n",
       "4           5.0          3.6           1.4          0.2  Iris-setosa"
      ]
     },
     "execution_count": 69,
     "metadata": {},
     "output_type": "execute_result"
    }
   ],
   "source": [
    "df.head()"
   ]
  },
  {
   "cell_type": "code",
   "execution_count": 70,
   "metadata": {},
   "outputs": [],
   "source": [
    "from sklearn.preprocessing import scale"
   ]
  },
  {
   "cell_type": "code",
   "execution_count": 71,
   "metadata": {},
   "outputs": [],
   "source": [
    "X = df[['sepal_length', 'sepal_width', 'petal_length', 'petal_width']]\n",
    "X_new = scale(X)"
   ]
  },
  {
   "cell_type": "code",
   "execution_count": 72,
   "metadata": {},
   "outputs": [],
   "source": [
    "g = GridSearchCV(knn, param_grid, cv=5, return_train_score=True)"
   ]
  },
  {
   "cell_type": "code",
   "execution_count": 73,
   "metadata": {},
   "outputs": [
    {
     "data": {
      "text/plain": [
       "GridSearchCV(cv=5, error_score='raise-deprecating',\n",
       "       estimator=KNeighborsClassifier(algorithm='auto', leaf_size=30, metric='minkowski',\n",
       "           metric_params=None, n_jobs=None, n_neighbors=5, p=2,\n",
       "           weights='uniform'),\n",
       "       fit_params=None, iid='warn', n_jobs=None,\n",
       "       param_grid={'n_neighbors': [1, 2, 3, 4, 5, 6], 'leaf_size': [1, 10, 15, 20, 25, 30]},\n",
       "       pre_dispatch='2*n_jobs', refit=True, return_train_score=True,\n",
       "       scoring=None, verbose=0)"
      ]
     },
     "execution_count": 73,
     "metadata": {},
     "output_type": "execute_result"
    }
   ],
   "source": [
    "g.fit(X_new, y)"
   ]
  },
  {
   "cell_type": "code",
   "execution_count": 74,
   "metadata": {},
   "outputs": [
    {
     "data": {
      "text/plain": [
       "0.9666666666666667"
      ]
     },
     "execution_count": 74,
     "metadata": {},
     "output_type": "execute_result"
    }
   ],
   "source": [
    "g.best_score_"
   ]
  },
  {
   "cell_type": "code",
   "execution_count": null,
   "metadata": {},
   "outputs": [],
   "source": []
  }
 ],
 "metadata": {
  "kernelspec": {
   "display_name": "Python 3",
   "language": "python",
   "name": "python3"
  },
  "language_info": {
   "codemirror_mode": {
    "name": "ipython",
    "version": 3
   },
   "file_extension": ".py",
   "mimetype": "text/x-python",
   "name": "python",
   "nbconvert_exporter": "python",
   "pygments_lexer": "ipython3",
   "version": "3.7.2"
  }
 },
 "nbformat": 4,
 "nbformat_minor": 2
}
